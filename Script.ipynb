{
 "cells": [
  {
   "cell_type": "code",
   "execution_count": 1,
   "metadata": {},
   "outputs": [],
   "source": [
    "import pandas as pd\n",
    "import os\n",
    "import functions"
   ]
  },
  {
   "cell_type": "raw",
   "metadata": {},
   "source": [
    "Generates the distrubution for all .txt files in the folder 'New Folder With Items'\n",
    "and prints it in the final output."
   ]
  },
  {
   "cell_type": "code",
   "execution_count": 2,
   "metadata": {},
   "outputs": [],
   "source": [
    "Path = \"./New Folder With Items/\"\n",
    "filelist = os.listdir(Path)\n",
    "txt_files = []\n",
    "file_names = []\n",
    "for i in filelist:\n",
    "    if i.endswith(\".txt\"):\n",
    "        file_names.append(i)\n",
    "        with open(Path + i, 'r') as f:\n",
    "            txt_files.append(f.read())"
   ]
  },
  {
   "cell_type": "code",
   "execution_count": 3,
   "metadata": {},
   "outputs": [],
   "source": [
    "preprocessed_files = [ functions.preprocess_text(i) for i in txt_files ]"
   ]
  },
  {
   "cell_type": "code",
   "execution_count": 4,
   "metadata": {},
   "outputs": [],
   "source": [
    "distrubutions = [functions.generate_distrubution(i) for i in preprocessed_files]"
   ]
  },
  {
   "cell_type": "code",
   "execution_count": 5,
   "metadata": {
    "scrolled": true
   },
   "outputs": [],
   "source": [
    "Df = pd.DataFrame(distrubutions,\n",
    "                  columns=['Condition', 'Generalization',\n",
    "                        'Modality', 'Numeric quantifier', 'Num Vague Terms'],\n",
    "                 index = file_names)\n",
    "Df[Df['Num Vague Terms']!=0].to_csv('./Distrubution.csv')\n",
    "Df[Df['Num Vague Terms']==0].to_csv('./No_Terms.csv')"
   ]
  },
  {
   "cell_type": "code",
   "execution_count": 6,
   "metadata": {},
   "outputs": [
    {
     "data": {
      "text/html": [
       "<div>\n",
       "<style scoped>\n",
       "    .dataframe tbody tr th:only-of-type {\n",
       "        vertical-align: middle;\n",
       "    }\n",
       "\n",
       "    .dataframe tbody tr th {\n",
       "        vertical-align: top;\n",
       "    }\n",
       "\n",
       "    .dataframe thead th {\n",
       "        text-align: right;\n",
       "    }\n",
       "</style>\n",
       "<table border=\"1\" class=\"dataframe\">\n",
       "  <thead>\n",
       "    <tr style=\"text-align: right;\">\n",
       "      <th></th>\n",
       "      <th>Condition</th>\n",
       "      <th>Generalization</th>\n",
       "      <th>Modality</th>\n",
       "      <th>Numeric quantifier</th>\n",
       "      <th>Num Vague Terms</th>\n",
       "    </tr>\n",
       "  </thead>\n",
       "  <tbody>\n",
       "    <tr>\n",
       "      <th>AirtelThanks-Recharge,BillPay,Bank,LiveTV.txt</th>\n",
       "      <td>5.128205</td>\n",
       "      <td>0.000000</td>\n",
       "      <td>82.051282</td>\n",
       "      <td>12.820513</td>\n",
       "      <td>39</td>\n",
       "    </tr>\n",
       "    <tr>\n",
       "      <th>AJIOOnlineShopping-HandpickedCuratedFashion.txt</th>\n",
       "      <td>5.263158</td>\n",
       "      <td>3.508772</td>\n",
       "      <td>75.438596</td>\n",
       "      <td>15.789474</td>\n",
       "      <td>57</td>\n",
       "    </tr>\n",
       "    <tr>\n",
       "      <th>Biugo-videomaker,photovideomaker,videoeditor.txt</th>\n",
       "      <td>13.684211</td>\n",
       "      <td>2.105263</td>\n",
       "      <td>65.263158</td>\n",
       "      <td>18.947368</td>\n",
       "      <td>95</td>\n",
       "    </tr>\n",
       "    <tr>\n",
       "      <th>AmazonPrimeVideo.txt</th>\n",
       "      <td>4.411765</td>\n",
       "      <td>2.941176</td>\n",
       "      <td>58.823529</td>\n",
       "      <td>33.823529</td>\n",
       "      <td>68</td>\n",
       "    </tr>\n",
       "    <tr>\n",
       "      <th>AmazonShopping,UPI,MoneyTransfer,BillPayment.txt</th>\n",
       "      <td>4.615385</td>\n",
       "      <td>3.076923</td>\n",
       "      <td>56.923077</td>\n",
       "      <td>35.384615</td>\n",
       "      <td>65</td>\n",
       "    </tr>\n",
       "  </tbody>\n",
       "</table>\n",
       "</div>"
      ],
      "text/plain": [
       "                                                  Condition  Generalization  \\\n",
       "AirtelThanks-Recharge,BillPay,Bank,LiveTV.txt      5.128205        0.000000   \n",
       "AJIOOnlineShopping-HandpickedCuratedFashion.txt    5.263158        3.508772   \n",
       "Biugo-videomaker,photovideomaker,videoeditor.txt  13.684211        2.105263   \n",
       "AmazonPrimeVideo.txt                               4.411765        2.941176   \n",
       "AmazonShopping,UPI,MoneyTransfer,BillPayment.txt   4.615385        3.076923   \n",
       "\n",
       "                                                   Modality  \\\n",
       "AirtelThanks-Recharge,BillPay,Bank,LiveTV.txt     82.051282   \n",
       "AJIOOnlineShopping-HandpickedCuratedFashion.txt   75.438596   \n",
       "Biugo-videomaker,photovideomaker,videoeditor.txt  65.263158   \n",
       "AmazonPrimeVideo.txt                              58.823529   \n",
       "AmazonShopping,UPI,MoneyTransfer,BillPayment.txt  56.923077   \n",
       "\n",
       "                                                  Numeric quantifier  \\\n",
       "AirtelThanks-Recharge,BillPay,Bank,LiveTV.txt              12.820513   \n",
       "AJIOOnlineShopping-HandpickedCuratedFashion.txt            15.789474   \n",
       "Biugo-videomaker,photovideomaker,videoeditor.txt           18.947368   \n",
       "AmazonPrimeVideo.txt                                       33.823529   \n",
       "AmazonShopping,UPI,MoneyTransfer,BillPayment.txt           35.384615   \n",
       "\n",
       "                                                  Num Vague Terms  \n",
       "AirtelThanks-Recharge,BillPay,Bank,LiveTV.txt                  39  \n",
       "AJIOOnlineShopping-HandpickedCuratedFashion.txt                57  \n",
       "Biugo-videomaker,photovideomaker,videoeditor.txt               95  \n",
       "AmazonPrimeVideo.txt                                           68  \n",
       "AmazonShopping,UPI,MoneyTransfer,BillPayment.txt               65  "
      ]
     },
     "execution_count": 6,
     "metadata": {},
     "output_type": "execute_result"
    }
   ],
   "source": [
    "Df[ Df['Num Vague Terms']!=0 ]"
   ]
  },
  {
   "cell_type": "code",
   "execution_count": 7,
   "metadata": {},
   "outputs": [
    {
     "name": "stdout",
     "output_type": "stream",
     "text": [
      "OVERALL AVERAGE\n",
      "Condition :  6.620544574104946\n",
      "Generalization :  2.326426927046122\n",
      "Modality :  67.69992855441771\n",
      "Numeric quantifier :  23.353099944431214\n",
      "Num Vague Terms :  64.8\n"
     ]
    }
   ],
   "source": [
    "print(\"OVERALL AVERAGE\")\n",
    "for i in Df:\n",
    "    print(i, \": \", Df[Df['Num Vague Terms'] != 0][i].mean())"
   ]
  }
 ],
 "metadata": {
  "kernelspec": {
   "display_name": "Python 3",
   "language": "python",
   "name": "python3"
  },
  "language_info": {
   "codemirror_mode": {
    "name": "ipython",
    "version": 3
   },
   "file_extension": ".py",
   "mimetype": "text/x-python",
   "name": "python",
   "nbconvert_exporter": "python",
   "pygments_lexer": "ipython3",
   "version": "3.8.3"
  }
 },
 "nbformat": 4,
 "nbformat_minor": 4
}
